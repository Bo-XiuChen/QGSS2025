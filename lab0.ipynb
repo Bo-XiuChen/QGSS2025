{
 "cells": [
  {
   "cell_type": "code",
   "execution_count": 27,
   "id": "a4825ef0",
   "metadata": {},
   "outputs": [
    {
     "name": "stdout",
     "output_type": "stream",
     "text": [
      "Qiskit version: 2.1.0\n",
      "Grader version: 0.22.9\n",
      "0.40.1\n"
     ]
    }
   ],
   "source": [
    "import qiskit\n",
    "import qc_grader\n",
    "import qiskit_ibm_runtime\n",
    "\n",
    "print(f\"Qiskit version: {qiskit.__version__}\")\n",
    "print(f\"Grader version: {qc_grader.__version__}\")\n",
    "print(qiskit_ibm_runtime.__version__)"
   ]
  },
  {
   "cell_type": "code",
   "execution_count": 16,
   "id": "dc48c6fe",
   "metadata": {},
   "outputs": [
    {
     "data": {
      "text/plain": [
       "{'qgss-2025': {'channel': 'ibm_quantum_platform',\n",
       "  'url': 'https://cloud.ibm.com',\n",
       "  'token': 'api',\n",
       "  'instance': 'crn',\n",
       "  'verify': True,\n",
       "  'private_endpoint': False}}"
      ]
     },
     "execution_count": 16,
     "metadata": {},
     "output_type": "execute_result"
    }
   ],
   "source": [
    "your_api_key = \"api"\n",
    "your_crn = \"crn"\n",
    "\n",
    "from qiskit_ibm_runtime import QiskitRuntimeService\n",
    "\n",
    "QiskitRuntimeService.save_account(\n",
    "    channel=\"ibm_quantum_platform\",\n",
    "    token=your_api_key,\n",
    "    instance=your_crn,\n",
    "    name=\"qgss-2025\",\n",
    "    overwrite=True\n",
    ")\n",
    "service = QiskitRuntimeService(name=\"qgss-2025\")\n",
    "service.saved_accounts()"
   ]
  },
  {
   "cell_type": "code",
   "execution_count": 17,
   "id": "05d44d40",
   "metadata": {},
   "outputs": [],
   "source": [
    "import matplotlib.pyplot as plt\n",
    "\n",
    "from qiskit import QuantumCircuit, generate_preset_pass_manager\n",
    "from qiskit.visualization import plot_histogram\n",
    "from qiskit.quantum_info import SparsePauliOp\n",
    "\n",
    "from qiskit_ibm_runtime import QiskitRuntimeService, SamplerV2 as Sampler, EstimatorV2 as Estimator\n",
    "\n",
    "from qiskit_aer import AerSimulator\n",
    "\n",
    "from qc_grader.challenges.qgss_2025 import grade_lab0_ex1, grade_lab0_ex2"
   ]
  },
  {
   "cell_type": "code",
   "execution_count": 18,
   "id": "62bdec68",
   "metadata": {},
   "outputs": [
    {
     "data": {
      "image/png": "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",
      "text/plain": [
       "<Figure size 287.294x200.667 with 1 Axes>"
      ]
     },
     "execution_count": 18,
     "metadata": {},
     "output_type": "execute_result"
    }
   ],
   "source": [
    "# Create a new circuit with a single qubit\n",
    "qc = QuantumCircuit(2)\n",
    "# Add a H gate to qubit 0\n",
    "qc.h(0)\n",
    "# Add a CNOT gate to qubit 1\n",
    "qc.cx(0, 1)\n",
    "# Return a drawing of the circuit using MatPlotLib (\"mpl\").\n",
    "qc.draw(\"mpl\")"
   ]
  },
  {
   "cell_type": "code",
   "execution_count": 19,
   "id": "0c5eb272",
   "metadata": {},
   "outputs": [
    {
     "data": {
      "image/png": "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",
      "text/plain": [
       "<Figure size 371.107x284.278 with 1 Axes>"
      ]
     },
     "execution_count": 19,
     "metadata": {},
     "output_type": "execute_result"
    }
   ],
   "source": [
    "qc = QuantumCircuit(3)\n",
    "\n",
    "### WRITE YOUR CODE BELOW HERE ###\n",
    "# Add a H gate to qubit 0\n",
    "qc.h(0)\n",
    "# Add a CNOT gate to qubits 0 and 1\n",
    "qc.cx(0,1)\n",
    "# Add a CNOT gate to qubits 1 and 2\n",
    "qc.cx(1,2)\n",
    "### YOUR CODE FINISHES HERE    ###\n",
    "\n",
    "# Return a drawing of the circuit using MatPlotLib (\"mpl\").\n",
    "qc.draw(\"mpl\")"
   ]
  },
  {
   "cell_type": "code",
   "execution_count": 20,
   "id": "d9fe3253",
   "metadata": {},
   "outputs": [
    {
     "name": "stdout",
     "output_type": "stream",
     "text": [
      "Submitting your answer. Please wait...\n",
      "Congratulations 🎉! Your answer is correct and has been submitted.\n"
     ]
    }
   ],
   "source": [
    "grade_lab0_ex1(qc)"
   ]
  },
  {
   "cell_type": "code",
   "execution_count": 21,
   "id": "7cab5d35",
   "metadata": {},
   "outputs": [
    {
     "name": "stdout",
     "output_type": "stream",
     "text": [
      "Submitting your answer. Please wait...\n",
      "Congratulations 🎉! Your answer is correct and has been submitted.\n"
     ]
    }
   ],
   "source": [
    "### WRITE YOUR CODE BELOW HERE ###\n",
    "# Write the coupling map of connections between qubits 0 and 1 and 0 and 2 as a list of pairs: [[0,1],...]\n",
    "coupling_map = [[0,1],[0,2]]\n",
    "\n",
    "# Transpile the quantum circuit `qc` using the `transpile` function and the coupling map\n",
    "from qiskit import transpile\n",
    "qc_transpiled = transpile(qc, coupling_map=coupling_map)\n",
    "### YOUR CODE FINISHES HERE    ###\n",
    "\n",
    "qc_transpiled.draw(\"mpl\")\n",
    "grade_lab0_ex2(qc_transpiled)"
   ]
  },
  {
   "cell_type": "code",
   "execution_count": 22,
   "id": "e785bb25",
   "metadata": {},
   "outputs": [],
   "source": [
    "# Add measurement operations\n",
    "qc.measure_all()\n",
    "\n",
    "# Set up the backend\n",
    "backend = AerSimulator()\n",
    "\n",
    "# Set up the sampler\n",
    "sampler = Sampler(mode=backend)\n",
    "\n",
    "# Submit the circuit to Sampler\n",
    "pm = generate_preset_pass_manager(backend=backend, optimization_level=1)\n",
    "job = sampler.run(pm.run([qc]))\n",
    "\n",
    "# Get the results\n",
    "results_sampler = job.result()"
   ]
  },
  {
   "cell_type": "code",
   "execution_count": 23,
   "id": "9a98acfa",
   "metadata": {},
   "outputs": [],
   "source": [
    "# Set up the Estimator\n",
    "estimator = Estimator(mode=backend)\n",
    "\n",
    "# Define some observables\n",
    "ZZZ = SparsePauliOp(\"ZZZ\")\n",
    "ZZX = SparsePauliOp(\"ZZX\")\n",
    "ZII = SparsePauliOp(\"ZII\")\n",
    "XXI = SparsePauliOp(\"XXI\")\n",
    "ZZI = SparsePauliOp(\"ZZI\")\n",
    "III = SparsePauliOp(\"III\")\n",
    "observables = [ZZZ, ZZX, ZII, XXI, ZZI, III]\n",
    "\n",
    "# Submit the circuit to Estimator\n",
    "pub = (qc, observables)\n",
    "job = estimator.run(pubs=[pub])\n",
    "\n",
    "# Get the results\n",
    "results_estimator = job.result()"
   ]
  },
  {
   "cell_type": "code",
   "execution_count": 24,
   "id": "357b198e",
   "metadata": {},
   "outputs": [
    {
     "name": "stdout",
     "output_type": "stream",
     "text": [
      "  Outcomes : {'111': 504, '000': 520}\n"
     ]
    },
    {
     "data": {
      "image/png": "iVBORw0KGgoAAAANSUhEUgAAAnYAAAHWCAYAAAD6oMSKAAAAOnRFWHRTb2Z0d2FyZQBNYXRwbG90bGliIHZlcnNpb24zLjEwLjMsIGh0dHBzOi8vbWF0cGxvdGxpYi5vcmcvZiW1igAAAAlwSFlzAAAPYQAAD2EBqD+naQAALWFJREFUeJzt3Qm0VWX9P/4PM4gDigMOCM6IoSgOoUaiJCFaTn0tBzRNky9aSg75LVHU1DTT7yrNBodcZVaWlmSOiKY4pV/UNF1ADqSAIAqKynj/63n6nfNnukxyuec+vF5r7Q53733Oefb1nt37PGOzurq6ugAAoMlr3tgFAABg1RDsAAAKIdgBABRCsAMAKIRgBwBQCMEOAKAQgh0AQCEEOwCAQgh2AACFEOwAAAoh2AFN3quvvhqnnXZabL/99rHWWmvlrXv37jFkyJB4/vnnFzr3wgsvjGbNmsXUqVOX+Fpdu3aNgw8+uPrzCSeckM9f2pae80ndeuutcc0116z08z/88MN8baNGjfrEZQGarpaNXQCAT2LEiBFx1FFHRcuWLeOYY46JXXbZJZo3bx4vv/xy/PGPf4yf/OQnOfh16dJlpV7/61//evTr12+Jxx588MG4+eab49Of/vQqCXb/+Mc/4owzzljpYDd8+PD87/322+8TlwdomgQ7oMkaP358fPnLX86hLYWsTTfddKHj3//+9+O6667LQW9l9e7dO2+LmjhxYgwdOjS/dwqPALVAUyzQZF1xxRUxc+bMuOmmmxYLdUmqxfvGN74RnTt3XqXvO3/+/Fw7+O677+aatvXXX3+p57///vu5Ji412bZp0yY23njj+NznPhfPPvtstYbtL3/5S7z++uuLNe/Onj07hg0bFr169Yr11lsv2rdvH5/5zGfioYceqr7+a6+9FhtttFH+d6q1q7xGapqtSDWYRx55ZGywwQbRtm3b2H333ePPf/7zKv29AI1PjR3QpJtht91229hrr71W+LnTpk2rN7Qty8UXX5yD1fe+973Ye++9l3n+qaeeGrfffnvuB5j6/r3zzjvx6KOPxj//+c/Ybbfd4jvf+U5Mnz49/v3vf8fVV1+dn7P22mvnxxkzZsQvfvGL+MpXvhInn3xyDok33HBD9O/fP5566qno2bNnDnWp1nDw4MFx2GGHxeGHH56fu/POO+fHF198MfbZZ5/YfPPN49vf/nYOh7/73e/i0EMPjT/84Q/5OUAh6gCaoOnTp9elW9ihhx662LF33323bsqUKdXtww8/rB674IIL8vOWtg0cOLDe9x01alRdixYt6g444IC6efPmLVdZ11tvvbohQ4Ys9Zz0nl26dFls/9y5c+tmzZq12PVtsskmdSeeeGJ1X7rOVPZ0fYtKZe3Ro0fdxx9/XN03f/78ur333rtuu+22W65rAJoGNXZAk5Rqshas2VpQatp87rnnqj9feeWVcdZZZy10TqqpWnfddRd77rHHHlvve6aRtEcffXR07NgxfvWrXy13370OHTrEk08+GW+99VZsttlmsSJatGiRt0pt4nvvvZcfU1NqpSl3WTWTI0eOjIsuuijX9qWtItX6XXDBBfHmm2/m2jyg6RPsgCZpnXXWyY8ffPDBYsd++tOf5gAzefLkeoNanz59YsMNN1xsf+p/tiR1dXUxaNCgPGjir3/9a3Tq1GmF+gIef/zxua9f6it30EEH5dfaeuutl+v5v/zlL+Oqq67K/eTmzJlT3b/VVlst87njxo3LZT///PPztiRvv/22YAeFEOyAJikNJEgDJtIUIYuq9LlLgwpWlR/84Ac50J199tm5pmtF/Nd//Vce8HDHHXfEfffdl2sQ04jdNB3LgAEDlvrcVDOY5tJL/eHSe6eBF6kG77LLLsujgpel0mcw1VjWV+7UTxEog2AHNFkDBw7MAwvSIII999yzwd4nNaOmAQ4pMKYBEysjhdD//u//zluqIUuDJtJrVYJdGsW6JGnQRarZSyFwwXNSE+qC6nt+pVawVatW9c7HB5TDdCdAk3XOOefkVSZOPPHE3Oy6qNQE+UmlPm1prrz0Pr/5zW9yQFoR8+bNyyNeF5Rq3VJfu1mzZlX3pZGqi56XVPrXLXgtKWg+/vjjC52Xylcp76Lvlfocpubp1Iy8qClTpqzQ9QC1TY0d0GRtt912eR65NBXIDjvsUF15IoWgtNpEOpYGOGyxxRYr/R5pqpLUpJtWt3jsscfytiT19eVLff3S+6c55FLZ0mCPBx54IJ5++uncb64i9b377W9/myc93mOPPfJ5hxxySF7eLNXWpSlJUg1luq7rr78+T5uyYP/Cdu3a5X3pNdLSamm+uk996lN5u/baa2PfffeNHj165ClTUi1eCsIpHKYpVhYcaAI0cY09LBfgkxo3blzd4MGD67bddtu6tm3b1rVr166uW7dudaeeemrdmDFjFjq3Mt1Jmh5kSdKUIwtOd5J+Xtb0KEu7laapSs4+++y6XXbZpW6dddapa9++ff73ddddt9B5H3zwQd3RRx9d16FDh/x6lalP0rQkl156af65TZs2dbvuumvdiBEj6o4//vjFpkcZPXp0Xa9evepat2692NQn48ePrxs0aFBdp06d6lq1alW3+eab1x188MF1t99++wr+toFa1iz9T2OHSwAAPjl97AAACiHYAQAUQrADACiEYAcAUAjBDgCgEIIdAEAhTFC8lPUV33rrrbzQeH1L9QAANLQ0M12a7DytWJMmXV8awa4eKdR17ty5sYsBAJBNmDBhmSvpCHb1SDV1lV/iuuuu29jFAQDWUDNmzMiVTZVssjSCXT0qza8p1Al2AEBjW56uYQZPAAAUQrADACiEYEfNuvDCC3O184Jbt27d8rFp06bF6aefHjvssEO0a9cuttxyy/jGN74R06dPX+g13njjjRg4cGCstdZasfHGG8fZZ58dc+fObaQrAoCGpY8dNW2nnXaKBx54oPpzy5Ytq6OW0/aDH/wgunfvHq+//nqceuqped/tt9+ez5k3b14OdZ06dYrRo0fHxIkTY9CgQdGqVau49NJLG+2aAKChNKtLk6OwxBEo6623Xq4BMnii8Wrs7rzzzhgzZsxynf/73/8+jj322Jg5c2YOgH/961/j4IMPzmFvk002yedcf/31ce6558aUKVOidevWDXwFALB6M4mmWGra2LFj84SMW2+9dRxzzDG5abU+lT/4Sq3e448/Hj169KiGuqR///75A/Liiy+ulvIDwOok2FGz9tprr7j55pvjnnvuiZ/85Cfx6quvxmc+85k8+/aipk6dGhdffHGccsop1X2TJk1aKNQllZ/TMQAojT521KwBAwZU/73zzjvnoNelS5f43e9+FyeddFL1WKqBS33pUl+71HwLAGsqNXY0GR06dIjtt98+xo0bV92Xau8+//nP59m477jjjjwwoiINmpg8efJCr1H5OR0DgNIIdjQZH3zwQYwfPz423XTTak3dgQcemAdB/PnPf462bdsudH7v3r3jhRdeiLfffru67/7778/98FLtHgCURrCjZp111lnx8MMPx2uvvZanKznssMOiRYsW8ZWvfKUa6tII2BtuuCH/nPrNpS1Nc5Kk4ynAHXfccfHcc8/FvffeG9/97ndjyJAh0aZNm8a+PABY5fSxo2b9+9//ziHunXfeiY022ij23XffeOKJJ/K/R40aFU8++WQ+b9ttt13oeWmQRdeuXXMIHDFiRAwePDjX3rVv3z6OP/74uOiiixrpigCgYZnHrh7msQMAaoF57ABgDbO0ZRiTjz/+OHdF6dixY6y99tpxxBFHLDbArCK1lGyxxRb5Nd57773VeBV8UoIdABS0DGNaPrGyPfroo9VjZ555Ztx11115lZ7UfzmtynP44Ycv8XXSlFJpmimaHn3sAKAQaeWdJU3nlJrw0kCzW2+9Nfbff/+876abboodd9wx913+9Kc/XT03TQifaumGDRuWl2akaVFjBwCFL8P4zDPPxJw5c6Jfv37Vc1Mz7ZZbbpmXX6x46aWX8gCzW265JZo3FxGaIv/VAKDwZRjTVFBpzs800fuiyyxWllicNWtWnongyiuvzIGPpklTLAAUvgxju3btlvn88847LzfNHnvssQ1cUhqSGjsAKHwZxtTvbvbs2YuNcE2jYit98kaOHJkHVqR+emk74IAD8v4NN9wwLrjggka5BlacGjsAKHgZxrT6Tq9evfJa2g8++GCe5iR55ZVXch+8NIF78oc//CE++uij6vOffvrpOPHEE+Nvf/tbbLPNNo12HawYwQ4AClmG8ZBDDsnNr2kqk1TLVlmGMU1um6YwGTp0aGywwQZ5ktvTTz89h7rKiNhFw9vUqVPzY2qeXbRvHrVLsAOAwpdhTK6++uo80jXV2KWBEv3794/rrruusYvNKmZJsXpYUgwAqAWWFAMAWAMJdgAAhRDsAAAKIdgBABRCsAMAKIRgBwBQCMEOAKAQgh0AQCEEOwCAQlhSrJF1/fZfGrsIsJjXLh/Y2EUAYCWosQMAKIRgBwBQCMEOAKAQgh0AQCEEOwCAQgh2AACFEOwAAAoh2AEAFEKwAwAohJUnAGgyrNZDLXqthlbrUWMHAFAIwQ4AoBCCHQBAIQQ7AIBCCHYAAIUQ7AAACiHYAQAUQrADACiEYAcAUAjBDgCgEIIdAEAhBDsAgEIIdgAAhRDsAAAKIdgBABRCsAMAKIRgBwBQCMEOAKAQgh0AQCEEOwCAQgh2AACFEOwAAAoh2AEAFEKwAwAohGAHAFAIwQ4AoBCCHQBAIQQ7AIBCCHYAAIUQ7AAACiHYAQAUQrADAChETQe7yy+/PJo1axZnnHFGdd9+++2X9y24nXrqqQs974033oiBAwfGWmutFRtvvHGcffbZMXfu3Ea4AgCA1adl1Kinn346fvrTn8bOO++82LGTTz45LrroourPKcBVzJs3L4e6Tp06xejRo2PixIkxaNCgaNWqVVx66aWrrfwAAKtbTdbYffDBB3HMMcfEz3/+81h//fUXO56CXApulW3dddetHrvvvvvipZdeil/96lfRs2fPGDBgQFx88cVx7bXXxuzZs1fzlQAArOE1dkOGDMm1bv369YtLLrlkseO//vWvc3BLoe6QQw6J888/v1pr9/jjj0ePHj1ik002qZ7fv3//GDx4cLz44oux6667LvE9Z82albeKGTNm5Mc5c+bkLWnevHm0aNEi1wrOnz+/em5lf2ruraurq+5P+9Kx+vZXXhdqTeVvs2XL/9wiFu3KkGrA02cgfRYqUreIdH59++v73DTU56m+srumpn1NUIvmr4bPU5MNdrfddls8++yzuSl2SY4++ujo0qVLbLbZZvH888/HueeeG6+88kr88Y9/zMcnTZq0UKhLKj+nY/W57LLLYvjw4YvtTzWAldC45ZZb5mCY3jf146vYYYcdolu3bvHUU0/FlClTqvtTjWEq6yOPPBLvv/9+dX/v3r1z37/02lCL7r777vx40EEHxUcffRQPPfRQ9Vi6WaUvXlOnTs1fpCrWWWed2H///WPChAkxZsyY6v6NNtoo9t577xg7dmz+rFY0xOdpwZtf3759o127dtVrqXBNTfuaoBZNaODP02OPPbbcZWlWt2A0rIFfzO677x73339/tW9dGiyRLuyaa65Z4nNGjhwZBxxwQIwbNy622WabOOWUU+L111+Pe++9t3rOhx9+GO3bt883jtQ0u7w1dp07d843xUpTb0N8c93ufOGO2jP24gPXuJog19Q0rsk9k1r0r0sHNOjnadq0adGxY8eYPn36Qt3PlqSmvv4888wz8fbbb8duu+1W3ZcuPn3z+/GPf5yDV7rIBe211175sRLsUvNsSrwLmjx5cn5Mx+rTpk2bvC0q3RjTtqBUhkXLsbRvk/XtX/R1oVYs+re5pL/VdLNJ2/Lur+9z09CfpxXZ75qaxjVBrWneSJ+nJZYlakiqeXvhhRdydWZlSzV4aSBF+veSfgmVqs9NN920Wt2fXiMFxIpUA5gSbvfu3Vfj1QAArF41VWOX+n586lOfWmhfakJN1Y9p//jx4+PWW2/NfS/SvtRGfeaZZ0afPn2qTbcHHnhgDnDHHXdcXHHFFblf3Xe/+908IGNJNXIAAKWoqWC3LK1bt44HHngg97ebOXNm7gN3xBFH5OBWkWr1RowYkUfBptq7FAyPP/74hea9AwAoUc0Hu1GjRlX/nYLcww8/vMznpBEki46wAgAoXU31sQMAYOUJdgAAhRDsAAAKIdgBABRCsAMAKIRgBwBQCMEOAKAQgh0AQCEEOwCAQgh2AACFEOwAAAoh2AEAFEKwAwAohGAHAFAIwQ4AoBCCHQBAIQQ7AIBCCHYAAIUQ7AAACiHYAQAUQrADACiEYAcAUAjBDgCgEIIdAEAhBDsAgEIIdgAAhRDsAAAKIdgBABRCsAMAKIRgBwBQCMEOAKAQgh0AQCEEOwCAQgh2AACFEOwAAAoh2AEAFEKwAwAohGAHAFAIwQ4AoBCCHQBAIQQ7AIBCCHYAAIUQ7AAACiHYAQAUQrADACiEYAcAUAjBDgCgEIIdAEAhBDsAgEIIdgAAhRDsAAAKIdgBABRCsAMAKIRgBwBQCMEOAKAQgh0AQCEEOwCAQgh2AACFEOwAAAoh2AEAFEKwAwAohGAHAFAIwQ4AoBCCHQBAIQQ7AIBCCHYAAIUQ7AAACiHYAQAUQrADACiEYAcAUAjBDgCgEIIdAEAhBDsAgEIIdgAAhRDsAAAKIdgBABRCsAMAKIRgBwCwpge7Rx55JN54442lnjNhwoR8HgAANRzs+vbtGzfffPNSz7nlllvyeQAA1HCwq6urW+Y58+fPj2bNmq3sWwAAUCt97MaOHRvrrbdeQ74FAAD/T8tYASeeeOJCP995553x2muvLXbevHnzqv3rBgwYsCJvAQDA6gh2C/apS02sY8aMyduSpON77LFHXH311StbNgAAGirYvfrqq9X+dVtvvXWcccYZ8c1vfnOx81q0aBHrr79+tG/ffkVeHgCA1RXsunTpUv33TTfdFLvuuutC+wAAaCLBbkHHH3/8qi0JAACNE+wqnnrqqXj66afjvffey4MmltTX7vzzz/+kbwMAQEMFu2nTpsWhhx4ajz322FLntBPsAABqPNgNHTo0Hn300dhvv/1ys+wWW2wRLVt+4gpAAABW0konsREjRsSee+4ZDz744CpdXeInP/lJ3irz4+20004xbNiw6nx4H3/8cXzrW9+K2267LWbNmhX9+/eP6667LjbZZJPqa6Q1bAcPHhwPPfRQrL322jl4XnbZZYInAFC0lV554qOPPoo+ffqs8iXDUs3f5ZdfHs8880z8/e9/j/333z+++MUvxosvvpiPn3nmmXHXXXfF73//+3j44YfjrbfeisMPP7z6/NTPb+DAgTF79uwYPXp0/PKXv8zz76VwCABQspWuwurZs+cSV534pA455JCFfv7e976Xa/CeeOKJHPpuuOGGuPXWW3Pgq0y7suOOO+bjn/70p+O+++6Ll156KR544IFci5fKefHFF8e5554bF154YbRu3XqVlxkAoEnX2F1wwQXx5z//OQeqhpJq31KT68yZM6N37965Fm/OnDnRr1+/6jndunWLLbfcMh5//PH8c3rs0aPHQk2zqbl2xowZ1Vo/AIASrXSN3aRJk3KT52c/+9k45phjYrfddot11113iecOGjRohV77hRdeyEEu9adLfeTuuOOO6N69e16+LNW4dejQYaHzU4hL5amUa8FQVzleOVaf1F8vbRUpCCYpSKYtad68eV5VIwXO+fPnV8+t7J87d+5CI4TTvnSsvv2V14VaU/nbrPRLTX/DC2rVqlX+DCw4xVHqlpHOr29/fZ+bhvo81Vd219S0rwlq0fzV8Hlq8GB3wgkn5IKnAqQ+bGlbtL9dOpb2rWiw22GHHXKImz59etx+++158EPqT9eQ0uCK4cOHL7Y/Ne2utdZa+d+pZjCttvH888/nARoLljfVHKY5/aZMmVLdn5qB08ocjzzySLz//vvV/Sm0brzxxvm1oRbdfffd+fGggw7K/WnTQKSKdLNKX+qmTp1arSlP1llnndxFYsKECQutIb3RRhvF3nvvHWPHjo1XXnmlur8hPk8L3vz69u0b7dq1q15LhWtq2tcEtWhCA3+e0tRyy6tZ3dImoVuKNChhda1SkZpet9lmmzjqqKPigAMOiHfffXehWrt00Wnd2jSwIg2SSE3EC/6C0xq3aW3bZ599Nv9Cl7fGrnPnzvmmWKmJbIhvrtudL9xRe8ZefOAaVxPkmprGNblnUov+demABv08pbmDO3bsmCu86msdbVJLiqWLT6GrV69e+UaVplg54ogj8rGUhFPqTd8Gk/SYBly8/fbb+dthcv/99+dfRGrOrU+bNm3ytqj0fmlbUPpFp21R9X2brG//oq8LtWLRv80l/a2mm03alnd/fZ+bhv48rch+19Q0rglqTfNG+jwt8dyoMeedd16esy5VV6Zq/DQCdtSoUXHvvffGeuutFyeddFKeHHmDDTbIYe3000/PYS6NiE0OPPDAHOCOO+64uOKKK3K/uu9+97sxZMiQJQY3AIBSrHSwW7BteFlSSFteqaYt9cmbOHFiDnI777xzDnWf+9zn8vGrr746p+JUY7fgBMUVKQGnyZPTBMUp8LVv3z7XLl500UUreIUAAE3LSvexS+FqeSYnTuc0xVFNqY9dCpbL0579SXT99l8a7LVhZb12+cDGLgIskXsma+I9c8YKZJKVrrFLtWpLCnbpTZ977rk8YCFNhdK1a9eVfQsAAFbASge7NL1JfVIl4FVXXZX7uKWVIgAAqOGVJ5Ym1eSdddZZsdNOO8XZZ5/dEG8BAMDqCHYVu+++e4wcObIh3wIAgNUR7MaPH98kB04AADRFLRtiMuE333wz98H705/+lFeKAACghoPdsqY7SQMo1l9//TyIAgCAGg52ffr0WWKwS4EvBbo99tgjvvrVr1aX9QIAoEaDXVrmCwCANWTwBAAATWzwxGOPPRZjxozJS16kpS569uwZ++yzz6p4aQAAVkewGz16dO5HN27cuOqAiUq/u+222y5uuumm6N279yd5CwAAGjrYvfjii3HggQfGhx9+GJ/73Oeib9++semmm8akSZPioYceivvuuy/69+8fTzzxRHTv3n1l3wYAgIYOdhdddFHMnj077r777vj85z+/0LFzzz037rnnnvjCF76Qz7vttttW9m0AAGjowRNpVOyRRx65WKirSPvT8VR7BwBADQe76dOnx1ZbbbXUc9LxdB4AADUc7DbbbLPcf25pnnzyyXweAAA1HOxS/7nUHHv++efHxx9/vNCx9PMFF1yQm2G/+MUvropyAgDQUIMnUqAbMWJEXHrppfHTn/409txzz9hkk01i8uTJ8fTTT8eUKVNi6623zucBAFDDwa5jx465Kfacc87Jo17T6NiKtm3b5vntvv/978cGG2ywqsoKAEBDTVC84YYbxo033phr7F5++eXqyhPdunWLVq1afZKXBgCgoYPd9773vZg5c2YMHz68Gt7SY48eParnpPntvvOd78Q666wT3/72t1f0LQAAaOjBEw888EAMGzYsN8MurUaudevW+ZwU7sxjBwBQg8HulltuifXXXz9OO+20ZZ47ZMiQ3L8urRcLAECNBbvRo0dHv379ok2bNss8N52Tzn3sscc+SfkAAGiIYPfWW2/lKUyWV1p5YuLEiSvyFgAArI5g17x585gzZ85yn5/OTc8BAKDhrVDqSsuD/eMf/1ju89O5m2+++cqUCwCAhgx2n/nMZ2LkyJHx2muvLfPcdE46t0+fPitaJgAAGjrYpZGuqXn1yCOPjKlTp9Z73jvvvBNf+tKXYu7cuTF48OCVKRcAAA05QfFuu+0WZ5xxRlxzzTXRvXv3OPXUU6Nv376xxRZb5ONvvvlmPPjgg/Gzn/0srxU7dOjQ/BwAAGpw5YmrrroqrwV75ZVX5lUo0ragurq6aNGiRZx33nlxySWXrMqyAgCwKoNds2bN4tJLL42TTjopTz6c5rabNGlSPtapU6fYZ5994oQTTohtttlmRV8aAIDVGewqUnBTIwcAUDtMMgcAUAjBDgCgEIIdAEAhBDsAgEIIdgAAhRDsAAAKIdgBABRCsAMAKIRgBwBQCMEOAKAQgh0AQCEEOwCAQgh2AACFEOwAAAoh2AEAFEKwAwAohGAHAFAIwQ4AoBCCHQBAIQQ7AIBCCHYAAIUQ7AAACiHYAQAUQrADACiEYAcAUAjBDgCgEIIdAEAhBDsAgEIIdgAAhRDsAAAKIdgBABRCsAMAKIRgBwBQCMEOAKAQgh0AQCEEOwCAQgh2AACFEOwAAAoh2AEAFEKwAwAohGAHAFAIwQ4AoBCCHQBAIQQ7AIBCCHYAAIUQ7AAACiHYAQAUQrADACiEYAcAUAjBDgCgEIIdAEAhBDsAgEIIdgAAhRDsAAAKIdgBABRCsAMAKIRgBwBQiJoLdo888kgccsghsdlmm0WzZs3izjvvXOj4CSeckPcvuH3+859f6Jxp06bFMcccE+uuu2506NAhTjrppPjggw9W85UAAKzhwW7mzJmxyy67xLXXXlvvOSnITZw4sbr95je/Weh4CnUvvvhi3H///TFixIgcFk855ZTVUHoAgMbTMmrMgAED8rY0bdq0iU6dOi3x2D//+c+455574umnn47dd9897/vRj34UBx10UPzgBz/INYEAACWquRq75TFq1KjYeOONY4cddojBgwfHO++8Uz32+OOP5+bXSqhL+vXrF82bN48nn3yykUoMALAG1tgtS2qGPfzww2OrrbaK8ePHx//8z//kGr4U6Fq0aBGTJk3KoW9BLVu2jA022CAfq8+sWbPyVjFjxoz8OGfOnLwlKRym95g3b17Mnz+/em5l/9y5c6Ourq66P+1Lx+rbX3ldqDWVv8302UnS3/CCWrVqlT8D6bNQkfq7pvPr21/f56ahPk/1ld01Ne1rglo0fzV8nooNdl/+8per/+7Ro0fsvPPOsc022+RavAMOOGClX/eyyy6L4cOHL7b/vvvui7XWWiv/e8stt4xdd901nn/++XjjjTeq56Saw27dusVTTz0VU6ZMqe7v2bNndOnSJffxe//996v7e/funcNnem2oRXfffXd+TF0YPvroo3jooYeqx9LNauDAgTF16tT8hapinXXWif333z8mTJgQY8aMqe7faKONYu+9946xY8fGK6+8Ut3fEJ+nBW9+ffv2jXbt2lWvpcI1Ne1rglo0oYE/T4899thyl6VZ3YLRsMakxHvHHXfEoYceutTz0i/wkksuia9//etx4403xre+9a149913q8fTTaRt27bx+9//Pg477LDlrrHr3Llzvimm0bUN9c11u/OFO2rP2IsPXONqglxT07gm90xq0b8uHdCgn6c020fHjh1j+vTp1UxSnyb/9eff//537mO36aabVr8Vvvfee/HMM89Er1698r6RI0fmX+Bee+211AEZaVtUujGmbUHpF522RdX3bbK+/Yu+LtSKRf82l/S3mm42aVve/fV9bhr687Qi+11T07gmqDXNG+nztMRzo8ak+ebGjRtX/fnVV1/N1Zupj1zaUnPpEUcckUfFpj5255xzTmy77bbRv3//fP6OO+6Y++GdfPLJcf311+dvh6eddlpuwjUiFgAoWc2Niv373/+e25/TlgwdOjT/e9iwYTndpnbpL3zhC7H99tvniYdTrdzf/va3hWrbfv3rX+e26tTnLvXT2HfffeNnP/tZI14VAEDDq7kau/3222+h9uVF3Xvvvct8jVSzd+utt67ikgEA1Laaq7EDAGDlCHYAAIUQ7AAACiHYAQAUQrADACiEYAcAUAjBDgCgEIIdAEAhBDsAgEIIdgAAhRDsAAAKIdgBABRCsAMAKIRgBwBQCMEOAKAQgh0AQCEEOwCAQgh2AACFEOwAAAoh2AEAFEKwAwAohGAHAFAIwQ4AoBCCHQBAIQQ7AIBCCHYAAIUQ7AAACiHYAQAUQrADACiEYAcAUAjBDgCgEIIdAEAhBDsAgEIIdgAAhRDsAAAKIdgBABRCsAMAKIRgBwBQCMEOAKAQgh0AQCEEOwCAQgh2AACFEOwAAAoh2AEAFEKwAwAohGAHAFAIwQ4AoBCCHQBAIQQ7AIBCCHYAAIUQ7AAACiHYAQAUQrADACiEYAcAUAjBDgCgEIIdAEAhBDsAgEIIdgAAhRDsAAAKIdgBABRCsAMAKIRgBwBQCMEOAKAQgh0AQCEEOwCAQgh2AACFEOwAAAoh2AEAFEKwAwAohGAHAFAIwQ4AoBCCHQBAIQQ7AIBCCHYAAIUQ7AAACiHYAQAUQrADACiEYAcAUAjBDgCgEIIdAEAhBDsAgEIIdgAAhRDsAAAKIdgBABRCsAMAKIRgBwBQCMEOAKAQgh0AQCEEOwCAQgh2AACFEOwAAApRdLC79tpro2vXrtG2bdvYa6+94qmnnmrsIgEANJhig91vf/vbGDp0aFxwwQXx7LPPxi677BL9+/ePt99+u7GLBgDQIIoNdj/84Q/j5JNPjq9+9avRvXv3uP7662OttdaKG2+8sbGLBgDQIFpGgWbPnh3PPPNMnHfeedV9zZs3j379+sXjjz++xOfMmjUrbxXTp0/Pj9OmTYs5c+ZUX6NFixYxb968mD9//kKvnfbPnTs36urqqvvTvnSsvv3pdefP+nAVXz18cu+8805+bNnyP7eI9De8oFatWuXPQPosVDRr1iyfX9/++j43q/LztKD6yu6amvY1uWdSi957770G/TylLJIseGyNCnZTp07Nv7RNNtlkof3p55dffnmJz7nsssti+PDhi+3faqutGqycUKs2vKaxSwDQdKy/mu6Z77//fqy33nprXrBbGal2L/XJq0hJOiXkjh075uRNbZsxY0Z07tw5JkyYEOuuu25jFwegprlnNi2ppi6Fus0222yZ5xYZ7DbccMNcfTl58uSF9qefO3XqtMTntGnTJm8L6tChQ4OWk1Uv3aDcpACWj3tm07GsmrqiB0+0bt06evXqFQ8++OBCNXDp5969ezdq2QAAGkqRNXZJalY9/vjjY/fdd48999wzrrnmmpg5c2YeJQsAUKJig91RRx0VU6ZMiWHDhsWkSZOiZ8+ecc899yw2oIIypGb0NGfhos3pACzOPbNczeqWZ+wsAAA1r8g+dgAAayLBDgCgEIIdAEAhBDsAgEIIdgAAhRDsKI6B3gCsqQQ7imNtXwDWVMVOUMyaZc6cOfHSSy/FX/7yl7zu4a677hpdu3bNE1K3bNkyLynXvLnvMQCUzQTFFOGss86K3/zmN7HxxhvHu+++G2+88UZstdVWcfTRR8c3vvGN2GijjRq7iAA1KX3xTS0dWjvKoAqDJi/V1P3sZz+Ln//853H33XfHv/71r3j11Vfj2GOPjZtuuim22267+NWvftXYxQSoGW+//XbcddddMW/evNyaUQl1KeQt2hpC0yLY0eTdcccduen1oIMOik033TQPnujSpUsMHz48XnnllTjhhBPiiiuuyGsHAxBx0UUXxRe/+MXo1KlTvkeOHj067690WUn30ddeey3+93//N2bNmtXIpWVFCHY0eTvuuGP+9pmaX5MWLVrE3LlzY/bs2dG+ffsYMmRI/jb6hz/8obGLClAT/v73v8eZZ54Zw4YNi3HjxkWfPn3yF+Lzzjsvt3qke+Yvf/nLuP7666NNmzaNXVxWgGBHk/fZz342Pw4YMCCHt/TtMg2YaN26dd6fmmITgycAIt58883o3Llz/lJ8+umnx1//+td48sknY9CgQXHnnXfGtttuG7169YqrrroqTjvttMYuLivI4AmK8NZbb8XQoUPjn//8Z2yxxRaxxx57RN++ffM30B/96Ef5m+frr7+ea/AA1mQffvhhPPjgg3mw2V577VXdn/rXpcFnzz33XFx99dU58L3//vvRrl27Ri0vK0awoxipOTYNnnjggQdyiEv966ZOnRr77bdffO1rX8sjZAFYWIoBi46IPe644/J99JFHHmm0crFyBDuatMmTJ+cRsKkPSPpWufXWW+cm1/Hjx+dvpamGbsMNN4wNNtigsYsK0CSmN/noo4/ywIrBgwfHYYcdttrLxycj2NFkpelN0nQmzz77bO5Tt8MOO+Q+IwcccEB84QtfiI4dOzZ2EQGanDTFSRpc0bt378YuCitBsKNJeuedd/KgiDTi9eSTT44ZM2bkZtjUb2Ts2LHxqU99Kg/TT5MUL6mZAWBNk2YLmDZtWu5bR7kME6RJ+vWvfx3bb799XHzxxbHlllvmIHfOOefEvffeGzfccENMmjQpDj744HjvvfeEOoCI+PGPf5xbNtJI2L/97W+5u8qi0pfktDRjmi6Kpkmwo0lq1apVfPDBB/Hyyy/nnz/++OPqjSiNhr3lllvyt9P777+/kUsKUBvSsovdu3fPU5ukQWVpSpMLL7ww/vGPf+QVKCpfmtMX5sp0UTQ9gh1N0pe+9KU8SCJNZZJCXdu2bfONqLIcTrdu3XIfuzSqC2BNl1beSffINCDiqaeeymEuDYy4+eabo2fPnnk+0DQZ8XXXXbfQFCg0PfrY0WRHdKWlxL75zW/mpoOjjjoq37DS0mITJ06MUaNGxSmnnBIvvPBCdO3atbGLDNCo0n3xtttui5122ikOPPDA6v5UU5eWE7vxxhvzPTXdT9MqPmk+UJomwY4mK60wkaY1efjhh+NPf/pTPProoznwbb755nlU1zHHHJPXQwTgP9OYJGlqqCUNKjvrrLNi5MiReaYBmq6WjV0AWBFpwuHf/va3ceWVV+am1jQ/3frrrx/9+vWLs88+O3cGTuscpuXFKkuJAfCfQFexaKhLXVpGjBgRX/3qVxuhZKxKauxoUk488cS83E0KbmuvvXae9iQtYJ3WPkzLhw0fPjx3Dgbg/6+pW9ayYOmc3/3ud/GVr3zFwIkmTrCjyUh/qinMpfnqUkffyr4U7NLQ/V/84hd5jqbbb789T38CQMS3vvWt2GefffIo2E6dOuWVehaVpobq0KFDo5SPVcuoWJqMl156KS8ZlpYJW7A5ITW5ppq8NDlxumGlYAdAxK233hpXX311fPnLX85TQZ133nnx0EMP5bW105RQycyZM2PQoEF5pCxNnxo7mozUVJAmHU43ozREP412XbSfyA9/+MN8I0vL4QCs6b72ta/lptU0MCLNY5daNtI0UGkGgTRtVP/+/WPMmDF5FoE06IymT40dTUbqI3LJJZfk4fjHHXdcDnBpCH9lpFcaJfvEE0/kmdUB1nTpS3Bq5UhNrOnxO9/5Trz66qs5yO2+++5x+eWXR58+feLrX/96vqdSBjV2NDlpbro0M/pdd92V+9ztu+++ud9IWk5sww03zN9Id95558YuJkCjS33nJk+enL/wptV50qo9C7Z0pJUmUqj7v//7v9hll10ataysGoIdTVbqI5KG59955525Ni8NmDjyyCNjxx13bOyiAdT0JO/p//pbtGgRP//5z/NE70taN5amSbCjmBtVWmIMgOWX+iWn1SfSPKCUQbADgDVUGjCRau58MS6HYAcAUAgRHQCgEIIdAEAhBDsAgEIIdgAAhRDsAAAKIdgBABRCsAMAKIRgBwBQCMEOACDK8P8BuY2+k8VVBdQAAAAASUVORK5CYII=",
      "text/plain": [
       "<Figure size 640x480 with 1 Axes>"
      ]
     },
     "metadata": {},
     "output_type": "display_data"
    }
   ],
   "source": [
    "counts_list = results_sampler[0].data.meas.get_counts()\n",
    "print(f\"  Outcomes : {counts_list}\")\n",
    "display(plot_histogram(counts_list, title=\"GHZ state\"))"
   ]
  },
  {
   "cell_type": "code",
   "execution_count": 25,
   "id": "2ab4ca1f",
   "metadata": {},
   "outputs": [
    {
     "name": "stdout",
     "output_type": "stream",
     "text": [
      "Expectation values: [('ZZZ', np.float64(0.015625)), ('ZZX', np.float64(0.00537109375)), ('ZII', np.float64(-0.013671875)), ('XXI', np.float64(0.01513671875)), ('ZZI', np.float64(1.0)), ('III', np.float64(1.0))]\n"
     ]
    },
    {
     "data": {
      "image/png": "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",
      "text/plain": [
       "<Figure size 640x480 with 1 Axes>"
      ]
     },
     "metadata": {},
     "output_type": "display_data"
    }
   ],
   "source": [
    "exp_values = results_estimator[0].data.evs\n",
    "observables_list = [\"ZZZ\", \"ZZX\", \"ZII\", \"XXI\", \"ZZI\", \"III\"]\n",
    "print(f\"Expectation values: {list(zip(observables_list, exp_values))}\")\n",
    "\n",
    "# Set up our plot\n",
    "container = plt.bar(observables_list, exp_values, width=0.8)\n",
    "# Label each axis\n",
    "plt.xlabel(\"Observables\")\n",
    "plt.ylabel(\"Values\")\n",
    "plt.show()"
   ]
  },
  {
   "cell_type": "code",
   "execution_count": 29,
   "id": "33d9f0d9",
   "metadata": {},
   "outputs": [
    {
     "name": "stdout",
     "output_type": "stream",
     "text": [
      "Lab 0: 2/2 exercises completed (100%)\n",
      "    ✅ 403 participants have completed this lab\n",
      "Lab 1: 0/9 exercises completed (0%)\n",
      "    ✅ 1 participants have completed this lab\n",
      "Lab 2: 0/7 exercises completed (0%)\n",
      "    ✅ 0 participants have completed this lab\n",
      "Lab 3: 0/5 exercises completed (0%)\n",
      "    ✅ 0 participants have completed this lab\n",
      "Lab 4: 0/6 exercises completed (0%)\n",
      "    ✅ 0 participants have completed this lab\n",
      "We are using the ibm_torino quantum computer\n",
      "d1l0fssuvp6s73c9i3pg\n",
      "Outcomes : {'110': 229, '111': 1472, '000': 1908, '001': 232, '100': 66, '010': 84, '011': 74, '101': 31}\n"
     ]
    },
    {
     "data": {
      "image/png": "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",
      "text/plain": [
       "<Figure size 640x480 with 1 Axes>"
      ]
     },
     "execution_count": 29,
     "metadata": {},
     "output_type": "execute_result"
    }
   ],
   "source": [
    "from qc_grader.grader.grade import check_lab_completion_status\n",
    "check_lab_completion_status(\"qgss_2025\")\n",
    "\n",
    "# Define the service. This allows you to access IBM QPUs.\n",
    "service = QiskitRuntimeService(name=\"qgss-2025\")\n",
    "\n",
    "# Get a backend\n",
    "backend = service.least_busy(operational=True, simulator=False)\n",
    "print(f\"We are using the {backend.name} quantum computer\")\n",
    "\n",
    "### WRITE YOUR CODE BELOW HERE ###\n",
    "# Step 1. Map\n",
    "# You should have created a GHZ circuit above and assigned with variable `qc`\n",
    "qc = QuantumCircuit(3)\n",
    "\n",
    "### WRITE YOUR CODE BELOW HERE ###\n",
    "# Add a H gate to qubit 0\n",
    "qc.h(0)\n",
    "# Add a CNOT gate to qubits 0 and 1\n",
    "qc.cx(0,1)\n",
    "# Add a CNOT gate to qubits 1 and 2\n",
    "qc.cx(1,2)\n",
    "### YOUR CODE FINISHES HERE    ###\n",
    "\n",
    "# Return a drawing of the circuit using MatPlotLib (\"mpl\").\n",
    "qc.measure_all()\n",
    "\n",
    "# Step 2. Optimize\n",
    "pm = generate_preset_pass_manager(optimization_level=1, backend=backend)\n",
    "qc_transpiled = pm.run(qc) \n",
    "\n",
    "# Step 3. Execute\n",
    "sampler = Sampler(mode=backend)\n",
    "job = sampler.run(pm.run([qc]))\n",
    "print(job.job_id())\n",
    "\n",
    "\n",
    "# Step 4. Post-process\n",
    "results = job.result()\n",
    "counts_list = results[0].data.meas.get_counts()\n",
    "\n",
    "### YOUR CODE FINISHES HERE    ###\n",
    "\n",
    "print(f\"Outcomes : {counts_list}\")\n",
    "plot_histogram(counts_list,title='GHZ state')"
   ]
  }
 ],
 "metadata": {
  "kernelspec": {
   "display_name": "qub2",
   "language": "python",
   "name": "python3"
  },
  "language_info": {
   "codemirror_mode": {
    "name": "ipython",
    "version": 3
   },
   "file_extension": ".py",
   "mimetype": "text/x-python",
   "name": "python",
   "nbconvert_exporter": "python",
   "pygments_lexer": "ipython3",
   "version": "3.13.0"
  }
 },
 "nbformat": 4,
 "nbformat_minor": 5
}
